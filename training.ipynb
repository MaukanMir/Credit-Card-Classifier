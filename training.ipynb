{
 "cells": [
  {
   "cell_type": "code",
   "execution_count": 70,
   "metadata": {},
   "outputs": [],
   "source": [
    "import pandas as pd\n",
    "import numpy as np\n",
    "import matplotlib.pyplot as plt\n",
    "import seaborn as sns\n",
    "from sklearn.model_selection import train_test_split, KFold\n",
    "from sklearn.linear_model import LogisticRegression\n",
    "from sklearn.metrics import confusion_matrix,roc_curve,recall_score, f1_score, precision_score, auc\n",
    "from sklearn.model_selection import train_test_split\n",
    "from sklearn.preprocessing import StandardScaler\n",
    "from tensorflow.keras.models import Sequential\n",
    "from tensorflow.keras.layers import Dense, Dropout\n",
    "from tensorflow.keras.callbacks import EarlyStopping\n",
    "from sklearn.utils.class_weight import compute_class_weight\n",
    "from tensorflow.keras.regularizers import l1, l2, l1_l2\n"
   ]
  },
  {
   "cell_type": "code",
   "execution_count": 71,
   "metadata": {},
   "outputs": [],
   "source": [
    "df = pd.read_csv(\"creditcard.csv\")\n",
    "df['normAmount'] = StandardScaler().fit_transform(df['Amount'].values.reshape(-1, 1))\n",
    "df = df.drop(['Time','Amount'],axis=1)"
   ]
  },
  {
   "cell_type": "code",
   "execution_count": 72,
   "metadata": {},
   "outputs": [],
   "source": [
    "X = df.loc[:, df.columns != 'Class']\n",
    "y = df.loc[:, df.columns == 'Class']\n"
   ]
  },
  {
   "cell_type": "code",
   "execution_count": 73,
   "metadata": {},
   "outputs": [
    {
     "name": "stdout",
     "output_type": "stream",
     "text": [
      "Percentage of normal transactions:  0.5\n",
      "Percentage of fraud transactions:  0.5\n",
      "Total number of transactions in resampled data:  984\n"
     ]
    }
   ],
   "source": [
    "# Number of data points in the minority class\n",
    "number_records_fraud = len(df[df.Class == 1])\n",
    "fraud_indices = np.array(df[df.Class == 1].index)\n",
    "\n",
    "# Picking the indices of the normal classes\n",
    "normal_indices = df[df.Class == 0].index\n",
    "\n",
    "# Out of the indices we picked, randomly select \"x\" number (number_records_fraud)\n",
    "random_normal_indices = np.random.choice(normal_indices, number_records_fraud, replace = False)\n",
    "random_normal_indices = np.array(random_normal_indices)\n",
    "\n",
    "# Appending the 2 indices\n",
    "under_sample_indices = np.concatenate([fraud_indices,random_normal_indices])\n",
    "\n",
    "# Under sample dataset\n",
    "under_sample_data = df.iloc[under_sample_indices,:]\n",
    "\n",
    "X_undersample = under_sample_data.loc[:, under_sample_data.columns != 'Class']\n",
    "y_undersample = under_sample_data.loc[:, under_sample_data.columns == 'Class']\n",
    "\n",
    "# Showing ratio\n",
    "print(\"Percentage of normal transactions: \", len(under_sample_data[under_sample_data.Class == 0])/len(under_sample_data))\n",
    "print(\"Percentage of fraud transactions: \", len(under_sample_data[under_sample_data.Class == 1])/len(under_sample_data))\n",
    "print(\"Total number of transactions in resampled data: \", len(under_sample_data))"
   ]
  },
  {
   "cell_type": "code",
   "execution_count": 74,
   "metadata": {},
   "outputs": [
    {
     "name": "stdout",
     "output_type": "stream",
     "text": [
      "Number transactions train dataset:  199364\n",
      "Number transactions test dataset:  85443\n",
      "Total number of transactions:  284807\n",
      "\n",
      "Number transactions train dataset:  688\n",
      "Number transactions test dataset:  296\n",
      "Total number of transactions:  984\n"
     ]
    }
   ],
   "source": [
    "\n",
    "X_train, X_test, y_train, y_test = train_test_split(X,y,test_size = 0.3, random_state = 0)\n",
    "\n",
    "print(\"Number transactions train dataset: \", len(X_train))\n",
    "print(\"Number transactions test dataset: \", len(X_test))\n",
    "print(\"Total number of transactions: \", len(X_train)+len(X_test))\n",
    "\n",
    "# Undersampled dataset\n",
    "X_train_undersample, X_test_undersample, y_train_undersample, y_test_undersample = train_test_split(X_undersample\n",
    "                                                                                                   ,y_undersample\n",
    "                                                                                                   ,test_size = 0.3\n",
    "                                                                                                   ,random_state = 0)\n",
    "print(\"\")\n",
    "print(\"Number transactions train dataset: \", len(X_train_undersample))\n",
    "print(\"Number transactions test dataset: \", len(X_test_undersample))\n",
    "print(\"Total number of transactions: \", len(X_train_undersample)+len(X_test_undersample))"
   ]
  },
  {
   "cell_type": "code",
   "execution_count": 75,
   "metadata": {},
   "outputs": [],
   "source": [
    "def parameter_tuning_KFOLD_scores(x_train_data,y_train_data):\n",
    "    fold = KFold(n_splits=5,shuffle=False) \n",
    "\n",
    "    # Testing the best parameters for C\n",
    "    c_params = [0.01,0.1,1,10,100]\n",
    "\n",
    "    results_df= pd.DataFrame(index = range(len(c_params),2), columns = ['c_parameter','Mean recall score'])\n",
    "    results_df['c_parameter'] = c_params\n",
    "\n",
    "    # the k-fold will give 2 lists: train_indices = indices[0], test_indices = indices[1]\n",
    "    idx = 0\n",
    "    for c_param in c_params:\n",
    "        print('-------------------------------------------')\n",
    "        print('c parameter: ', c_param)\n",
    "        print('-------------------------------------------')\n",
    "        print('')\n",
    "\n",
    "        recall_accs = []\n",
    "        for iteration, indices in enumerate(fold.split(x_train_data),start=1):\n",
    "            # Call the logistic regression model with a certain C parameter\n",
    "            lr = LogisticRegression(C=c_param, penalty='l1', solver='liblinear')\n",
    "\n",
    "            # Use the training data to fit the model. In this case, we use the portion of the fold to train the model\n",
    "            # with indices[0]. We then predict on the portion assigned as the 'test cross validation' with indices[1]\n",
    "            lr.fit(x_train_data.iloc[indices[0],:],y_train_data.iloc[indices[0],:].values.ravel())\n",
    "\n",
    "            # Predict values using the test indices in the training data\n",
    "            y_pred_undersample = lr.predict(x_train_data.iloc[indices[1],:].values)\n",
    "\n",
    "            # Calculate the recall score and append it to a list for recall scores representing the current c_parameter\n",
    "            recall_acc = recall_score(y_train_data.iloc[indices[1],:].values,y_pred_undersample)\n",
    "            recall_accs.append(recall_acc)\n",
    "            print('Iteration ', iteration,': recall score = ', recall_acc)\n",
    "\n",
    "        # The mean value of those recall scores is the metric we want to save and get hold of.\n",
    "        results_df.loc[idx,'Mean recall score'] = np.mean(recall_accs)\n",
    "        idx += 1\n",
    "        print('')\n",
    "        print('Mean recall score ', np.mean(recall_accs))\n",
    "        print('')\n",
    "\n",
    "    best_c = results_df.loc[results_df['Mean recall score'].idxmax()]['c_parameter']\n",
    "    \n",
    "    # Finally, we can check which C parameter is the best amongst the chosen.\n",
    "    print('*********************************************************************************')\n",
    "    print('Best model to choose from cross validation is with C parameter = ', best_c)\n",
    "    print('*********************************************************************************')\n",
    "    \n",
    "    return best_c"
   ]
  },
  {
   "cell_type": "code",
   "execution_count": 76,
   "metadata": {},
   "outputs": [
    {
     "name": "stdout",
     "output_type": "stream",
     "text": [
      "-------------------------------------------\n",
      "c parameter:  0.01\n",
      "-------------------------------------------\n",
      "\n",
      "Iteration  1 : recall score =  0.958904109589041\n",
      "Iteration  2 : recall score =  0.9178082191780822\n",
      "Iteration  3 : recall score =  1.0\n",
      "Iteration  4 : recall score =  0.9594594594594594\n",
      "Iteration  5 : recall score =  0.9696969696969697\n",
      "\n",
      "Mean recall score  0.9611737515847105\n",
      "\n",
      "-------------------------------------------\n",
      "c parameter:  0.1\n",
      "-------------------------------------------\n",
      "\n",
      "Iteration  1 : recall score =  0.8356164383561644\n",
      "Iteration  2 : recall score =  0.863013698630137\n",
      "Iteration  3 : recall score =  0.9661016949152542\n",
      "Iteration  4 : recall score =  0.9459459459459459\n",
      "Iteration  5 : recall score =  0.8939393939393939\n",
      "\n",
      "Mean recall score  0.9009234343573791\n",
      "\n",
      "-------------------------------------------\n",
      "c parameter:  1\n",
      "-------------------------------------------\n",
      "\n",
      "Iteration  1 : recall score =  0.8356164383561644\n",
      "Iteration  2 : recall score =  0.8767123287671232\n",
      "Iteration  3 : recall score =  0.9830508474576272\n",
      "Iteration  4 : recall score =  0.9459459459459459\n",
      "Iteration  5 : recall score =  0.8939393939393939\n",
      "\n",
      "Mean recall score  0.907052990893251\n",
      "\n",
      "-------------------------------------------\n",
      "c parameter:  10\n",
      "-------------------------------------------\n",
      "\n",
      "Iteration  1 : recall score =  0.8767123287671232\n",
      "Iteration  2 : recall score =  0.8767123287671232\n"
     ]
    },
    {
     "name": "stderr",
     "output_type": "stream",
     "text": [
      "/Users/test/miniforge3/envs/machine-learning-env/lib/python3.11/site-packages/sklearn/base.py:439: UserWarning: X does not have valid feature names, but LogisticRegression was fitted with feature names\n",
      "  warnings.warn(\n",
      "/Users/test/miniforge3/envs/machine-learning-env/lib/python3.11/site-packages/sklearn/base.py:439: UserWarning: X does not have valid feature names, but LogisticRegression was fitted with feature names\n",
      "  warnings.warn(\n",
      "/Users/test/miniforge3/envs/machine-learning-env/lib/python3.11/site-packages/sklearn/base.py:439: UserWarning: X does not have valid feature names, but LogisticRegression was fitted with feature names\n",
      "  warnings.warn(\n",
      "/Users/test/miniforge3/envs/machine-learning-env/lib/python3.11/site-packages/sklearn/base.py:439: UserWarning: X does not have valid feature names, but LogisticRegression was fitted with feature names\n",
      "  warnings.warn(\n",
      "/Users/test/miniforge3/envs/machine-learning-env/lib/python3.11/site-packages/sklearn/base.py:439: UserWarning: X does not have valid feature names, but LogisticRegression was fitted with feature names\n",
      "  warnings.warn(\n",
      "/Users/test/miniforge3/envs/machine-learning-env/lib/python3.11/site-packages/sklearn/base.py:439: UserWarning: X does not have valid feature names, but LogisticRegression was fitted with feature names\n",
      "  warnings.warn(\n",
      "/Users/test/miniforge3/envs/machine-learning-env/lib/python3.11/site-packages/sklearn/base.py:439: UserWarning: X does not have valid feature names, but LogisticRegression was fitted with feature names\n",
      "  warnings.warn(\n",
      "/Users/test/miniforge3/envs/machine-learning-env/lib/python3.11/site-packages/sklearn/base.py:439: UserWarning: X does not have valid feature names, but LogisticRegression was fitted with feature names\n",
      "  warnings.warn(\n",
      "/Users/test/miniforge3/envs/machine-learning-env/lib/python3.11/site-packages/sklearn/base.py:439: UserWarning: X does not have valid feature names, but LogisticRegression was fitted with feature names\n",
      "  warnings.warn(\n",
      "/Users/test/miniforge3/envs/machine-learning-env/lib/python3.11/site-packages/sklearn/base.py:439: UserWarning: X does not have valid feature names, but LogisticRegression was fitted with feature names\n",
      "  warnings.warn(\n",
      "/Users/test/miniforge3/envs/machine-learning-env/lib/python3.11/site-packages/sklearn/base.py:439: UserWarning: X does not have valid feature names, but LogisticRegression was fitted with feature names\n",
      "  warnings.warn(\n",
      "/Users/test/miniforge3/envs/machine-learning-env/lib/python3.11/site-packages/sklearn/base.py:439: UserWarning: X does not have valid feature names, but LogisticRegression was fitted with feature names\n",
      "  warnings.warn(\n",
      "/Users/test/miniforge3/envs/machine-learning-env/lib/python3.11/site-packages/sklearn/base.py:439: UserWarning: X does not have valid feature names, but LogisticRegression was fitted with feature names\n",
      "  warnings.warn(\n",
      "/Users/test/miniforge3/envs/machine-learning-env/lib/python3.11/site-packages/sklearn/base.py:439: UserWarning: X does not have valid feature names, but LogisticRegression was fitted with feature names\n",
      "  warnings.warn(\n",
      "/Users/test/miniforge3/envs/machine-learning-env/lib/python3.11/site-packages/sklearn/base.py:439: UserWarning: X does not have valid feature names, but LogisticRegression was fitted with feature names\n",
      "  warnings.warn(\n",
      "/Users/test/miniforge3/envs/machine-learning-env/lib/python3.11/site-packages/sklearn/base.py:439: UserWarning: X does not have valid feature names, but LogisticRegression was fitted with feature names\n",
      "  warnings.warn(\n",
      "/Users/test/miniforge3/envs/machine-learning-env/lib/python3.11/site-packages/sklearn/base.py:439: UserWarning: X does not have valid feature names, but LogisticRegression was fitted with feature names\n",
      "  warnings.warn(\n",
      "/Users/test/miniforge3/envs/machine-learning-env/lib/python3.11/site-packages/sklearn/base.py:439: UserWarning: X does not have valid feature names, but LogisticRegression was fitted with feature names\n",
      "  warnings.warn(\n",
      "/Users/test/miniforge3/envs/machine-learning-env/lib/python3.11/site-packages/sklearn/base.py:439: UserWarning: X does not have valid feature names, but LogisticRegression was fitted with feature names\n",
      "  warnings.warn(\n",
      "/Users/test/miniforge3/envs/machine-learning-env/lib/python3.11/site-packages/sklearn/base.py:439: UserWarning: X does not have valid feature names, but LogisticRegression was fitted with feature names\n",
      "  warnings.warn(\n"
     ]
    },
    {
     "name": "stdout",
     "output_type": "stream",
     "text": [
      "Iteration  3 : recall score =  0.9830508474576272\n",
      "Iteration  4 : recall score =  0.9459459459459459\n",
      "Iteration  5 : recall score =  0.9242424242424242\n",
      "\n",
      "Mean recall score  0.9213327750360488\n",
      "\n",
      "-------------------------------------------\n",
      "c parameter:  100\n",
      "-------------------------------------------\n",
      "\n"
     ]
    },
    {
     "name": "stderr",
     "output_type": "stream",
     "text": [
      "/Users/test/miniforge3/envs/machine-learning-env/lib/python3.11/site-packages/sklearn/base.py:439: UserWarning: X does not have valid feature names, but LogisticRegression was fitted with feature names\n",
      "  warnings.warn(\n",
      "/Users/test/miniforge3/envs/machine-learning-env/lib/python3.11/site-packages/sklearn/base.py:439: UserWarning: X does not have valid feature names, but LogisticRegression was fitted with feature names\n",
      "  warnings.warn(\n"
     ]
    },
    {
     "name": "stdout",
     "output_type": "stream",
     "text": [
      "Iteration  1 : recall score =  0.8904109589041096\n",
      "Iteration  2 : recall score =  0.8767123287671232\n"
     ]
    }
   ],
   "source": [
    "regularization_paramter = parameter_tuning_KFOLD_scores(X_train_undersample,y_train_undersample)"
   ]
  },
  {
   "cell_type": "code",
   "execution_count": null,
   "metadata": {},
   "outputs": [
    {
     "name": "stderr",
     "output_type": "stream",
     "text": [
      "/Users/test/miniforge3/envs/machine-learning-env/lib/python3.11/site-packages/sklearn/base.py:439: UserWarning: X does not have valid feature names, but LogisticRegression was fitted with feature names\n",
      "  warnings.warn(\n"
     ]
    }
   ],
   "source": [
    "lr = LogisticRegression(C=regularization_paramter, penalty='l1', solver='liblinear')\n",
    "lr.fit(X_train_undersample,y_train_undersample.values.ravel())\n",
    "y_pred = lr.predict(X_test.values)"
   ]
  },
  {
   "cell_type": "code",
   "execution_count": null,
   "metadata": {},
   "outputs": [
    {
     "name": "stdout",
     "output_type": "stream",
     "text": [
      "Recall metric in the testing dataset:  0.9115646258503401\n"
     ]
    }
   ],
   "source": [
    "cnf_matrix = confusion_matrix(y_test,y_pred)\n",
    "np.set_printoptions(precision=2)\n",
    "\n",
    "print(\"Recall metric in the testing dataset: \", cnf_matrix[1,1]/(cnf_matrix[1,0]+cnf_matrix[1,1]))\n"
   ]
  },
  {
   "cell_type": "code",
   "execution_count": null,
   "metadata": {},
   "outputs": [
    {
     "name": "stderr",
     "output_type": "stream",
     "text": [
      "/Users/test/miniforge3/envs/machine-learning-env/lib/python3.11/site-packages/sklearn/base.py:439: UserWarning: X does not have valid feature names, but LogisticRegression was fitted with feature names\n",
      "  warnings.warn(\n"
     ]
    },
    {
     "data": {
      "image/png": "[encoded data removed]",
      "text/plain": [
       "<Figure size 640x480 with 1 Axes>"
      ]
     },
     "metadata": {},
     "output_type": "display_data"
    }
   ],
   "source": [
    "# ROC CURVE\n",
    "lr = LogisticRegression(C=regularization_paramter, penalty='l1', solver='liblinear')\n",
    "y_pred_undersample_score = lr.fit(X_train_undersample,y_train_undersample.values.ravel()).decision_function(X_test_undersample.values)\n",
    "\n",
    "fpr, tpr, thresholds = roc_curve(y_test_undersample.values.ravel(),y_pred_undersample_score)\n",
    "roc_auc = auc(fpr,tpr)\n",
    "\n",
    "# Plot ROC\n",
    "plt.title('Receiver Operating Characteristic')\n",
    "plt.plot(fpr, tpr, 'b',label='AUC = %0.2f'% roc_auc)\n",
    "plt.legend(loc='lower right')\n",
    "plt.plot([0,1],[0,1],'r--')\n",
    "plt.xlim([-0.1,1.0])\n",
    "plt.ylim([-0.1,1.01])\n",
    "plt.ylabel('True Positive Rate')\n",
    "plt.xlabel('False Positive Rate')\n",
    "plt.show()"
   ]
  },
  {
   "cell_type": "code",
   "execution_count": null,
   "metadata": {},
   "outputs": [
    {
     "name": "stdout",
     "output_type": "stream",
     "text": [
      "-------------------------------------------\n",
      "c parameter:  0.01\n",
      "-------------------------------------------\n",
      "\n"
     ]
    },
    {
     "name": "stderr",
     "output_type": "stream",
     "text": [
      "/Users/test/miniforge3/envs/machine-learning-env/lib/python3.11/site-packages/sklearn/base.py:439: UserWarning: X does not have valid feature names, but LogisticRegression was fitted with feature names\n",
      "  warnings.warn(\n"
     ]
    },
    {
     "name": "stdout",
     "output_type": "stream",
     "text": [
      "Iteration  1 : recall score =  0.4925373134328358\n"
     ]
    },
    {
     "name": "stderr",
     "output_type": "stream",
     "text": [
      "/Users/test/miniforge3/envs/machine-learning-env/lib/python3.11/site-packages/sklearn/base.py:439: UserWarning: X does not have valid feature names, but LogisticRegression was fitted with feature names\n",
      "  warnings.warn(\n"
     ]
    },
    {
     "name": "stdout",
     "output_type": "stream",
     "text": [
      "Iteration  2 : recall score =  0.6027397260273972\n"
     ]
    },
    {
     "name": "stderr",
     "output_type": "stream",
     "text": [
      "/Users/test/miniforge3/envs/machine-learning-env/lib/python3.11/site-packages/sklearn/base.py:439: UserWarning: X does not have valid feature names, but LogisticRegression was fitted with feature names\n",
      "  warnings.warn(\n"
     ]
    },
    {
     "name": "stdout",
     "output_type": "stream",
     "text": [
      "Iteration  3 : recall score =  0.6833333333333333\n"
     ]
    },
    {
     "name": "stderr",
     "output_type": "stream",
     "text": [
      "/Users/test/miniforge3/envs/machine-learning-env/lib/python3.11/site-packages/sklearn/base.py:439: UserWarning: X does not have valid feature names, but LogisticRegression was fitted with feature names\n",
      "  warnings.warn(\n"
     ]
    },
    {
     "name": "stdout",
     "output_type": "stream",
     "text": [
      "Iteration  4 : recall score =  0.5692307692307692\n"
     ]
    },
    {
     "name": "stderr",
     "output_type": "stream",
     "text": [
      "/Users/test/miniforge3/envs/machine-learning-env/lib/python3.11/site-packages/sklearn/base.py:439: UserWarning: X does not have valid feature names, but LogisticRegression was fitted with feature names\n",
      "  warnings.warn(\n"
     ]
    },
    {
     "name": "stdout",
     "output_type": "stream",
     "text": [
      "Iteration  5 : recall score =  0.45\n",
      "\n",
      "Mean recall score  0.5595682284048672\n",
      "\n",
      "-------------------------------------------\n",
      "c parameter:  0.1\n",
      "-------------------------------------------\n",
      "\n"
     ]
    },
    {
     "name": "stderr",
     "output_type": "stream",
     "text": [
      "/Users/test/miniforge3/envs/machine-learning-env/lib/python3.11/site-packages/sklearn/base.py:439: UserWarning: X does not have valid feature names, but LogisticRegression was fitted with feature names\n",
      "  warnings.warn(\n"
     ]
    },
    {
     "name": "stdout",
     "output_type": "stream",
     "text": [
      "Iteration  1 : recall score =  0.5671641791044776\n"
     ]
    },
    {
     "name": "stderr",
     "output_type": "stream",
     "text": [
      "/Users/test/miniforge3/envs/machine-learning-env/lib/python3.11/site-packages/sklearn/base.py:439: UserWarning: X does not have valid feature names, but LogisticRegression was fitted with feature names\n",
      "  warnings.warn(\n"
     ]
    },
    {
     "name": "stdout",
     "output_type": "stream",
     "text": [
      "Iteration  2 : recall score =  0.6164383561643836\n"
     ]
    },
    {
     "name": "stderr",
     "output_type": "stream",
     "text": [
      "/Users/test/miniforge3/envs/machine-learning-env/lib/python3.11/site-packages/sklearn/base.py:439: UserWarning: X does not have valid feature names, but LogisticRegression was fitted with feature names\n",
      "  warnings.warn(\n"
     ]
    },
    {
     "name": "stdout",
     "output_type": "stream",
     "text": [
      "Iteration  3 : recall score =  0.6833333333333333\n"
     ]
    },
    {
     "name": "stderr",
     "output_type": "stream",
     "text": [
      "/Users/test/miniforge3/envs/machine-learning-env/lib/python3.11/site-packages/sklearn/base.py:439: UserWarning: X does not have valid feature names, but LogisticRegression was fitted with feature names\n",
      "  warnings.warn(\n"
     ]
    },
    {
     "name": "stdout",
     "output_type": "stream",
     "text": [
      "Iteration  4 : recall score =  0.5846153846153846\n"
     ]
    },
    {
     "name": "stderr",
     "output_type": "stream",
     "text": [
      "/Users/test/miniforge3/envs/machine-learning-env/lib/python3.11/site-packages/sklearn/base.py:439: UserWarning: X does not have valid feature names, but LogisticRegression was fitted with feature names\n",
      "  warnings.warn(\n"
     ]
    },
    {
     "name": "stdout",
     "output_type": "stream",
     "text": [
      "Iteration  5 : recall score =  0.525\n",
      "\n",
      "Mean recall score  0.5953102506435158\n",
      "\n",
      "-------------------------------------------\n",
      "c parameter:  1\n",
      "-------------------------------------------\n",
      "\n"
     ]
    },
    {
     "name": "stderr",
     "output_type": "stream",
     "text": [
      "/Users/test/miniforge3/envs/machine-learning-env/lib/python3.11/site-packages/sklearn/base.py:439: UserWarning: X does not have valid feature names, but LogisticRegression was fitted with feature names\n",
      "  warnings.warn(\n"
     ]
    },
    {
     "name": "stdout",
     "output_type": "stream",
     "text": [
      "Iteration  1 : recall score =  0.5522388059701493\n"
     ]
    },
    {
     "name": "stderr",
     "output_type": "stream",
     "text": [
      "/Users/test/miniforge3/envs/machine-learning-env/lib/python3.11/site-packages/sklearn/base.py:439: UserWarning: X does not have valid feature names, but LogisticRegression was fitted with feature names\n",
      "  warnings.warn(\n"
     ]
    },
    {
     "name": "stdout",
     "output_type": "stream",
     "text": [
      "Iteration  2 : recall score =  0.6164383561643836\n"
     ]
    },
    {
     "name": "stderr",
     "output_type": "stream",
     "text": [
      "/Users/test/miniforge3/envs/machine-learning-env/lib/python3.11/site-packages/sklearn/base.py:439: UserWarning: X does not have valid feature names, but LogisticRegression was fitted with feature names\n",
      "  warnings.warn(\n"
     ]
    },
    {
     "name": "stdout",
     "output_type": "stream",
     "text": [
      "Iteration  3 : recall score =  0.7166666666666667\n"
     ]
    },
    {
     "name": "stderr",
     "output_type": "stream",
     "text": [
      "/Users/test/miniforge3/envs/machine-learning-env/lib/python3.11/site-packages/sklearn/base.py:439: UserWarning: X does not have valid feature names, but LogisticRegression was fitted with feature names\n",
      "  warnings.warn(\n"
     ]
    },
    {
     "name": "stdout",
     "output_type": "stream",
     "text": [
      "Iteration  4 : recall score =  0.6153846153846154\n"
     ]
    },
    {
     "name": "stderr",
     "output_type": "stream",
     "text": [
      "/Users/test/miniforge3/envs/machine-learning-env/lib/python3.11/site-packages/sklearn/base.py:439: UserWarning: X does not have valid feature names, but LogisticRegression was fitted with feature names\n",
      "  warnings.warn(\n"
     ]
    },
    {
     "name": "stdout",
     "output_type": "stream",
     "text": [
      "Iteration  5 : recall score =  0.5625\n",
      "\n",
      "Mean recall score  0.612645688837163\n",
      "\n",
      "-------------------------------------------\n",
      "c parameter:  10\n",
      "-------------------------------------------\n",
      "\n"
     ]
    },
    {
     "name": "stderr",
     "output_type": "stream",
     "text": [
      "/Users/test/miniforge3/envs/machine-learning-env/lib/python3.11/site-packages/sklearn/base.py:439: UserWarning: X does not have valid feature names, but LogisticRegression was fitted with feature names\n",
      "  warnings.warn(\n"
     ]
    },
    {
     "name": "stdout",
     "output_type": "stream",
     "text": [
      "Iteration  1 : recall score =  0.5522388059701493\n"
     ]
    },
    {
     "name": "stderr",
     "output_type": "stream",
     "text": [
      "/Users/test/miniforge3/envs/machine-learning-env/lib/python3.11/site-packages/sklearn/base.py:439: UserWarning: X does not have valid feature names, but LogisticRegression was fitted with feature names\n",
      "  warnings.warn(\n"
     ]
    },
    {
     "name": "stdout",
     "output_type": "stream",
     "text": [
      "Iteration  2 : recall score =  0.6164383561643836\n"
     ]
    },
    {
     "name": "stderr",
     "output_type": "stream",
     "text": [
      "/Users/test/miniforge3/envs/machine-learning-env/lib/python3.11/site-packages/sklearn/base.py:439: UserWarning: X does not have valid feature names, but LogisticRegression was fitted with feature names\n",
      "  warnings.warn(\n"
     ]
    },
    {
     "name": "stdout",
     "output_type": "stream",
     "text": [
      "Iteration  3 : recall score =  0.7333333333333333\n"
     ]
    },
    {
     "name": "stderr",
     "output_type": "stream",
     "text": [
      "/Users/test/miniforge3/envs/machine-learning-env/lib/python3.11/site-packages/sklearn/base.py:439: UserWarning: X does not have valid feature names, but LogisticRegression was fitted with feature names\n",
      "  warnings.warn(\n"
     ]
    },
    {
     "name": "stdout",
     "output_type": "stream",
     "text": [
      "Iteration  4 : recall score =  0.6153846153846154\n"
     ]
    },
    {
     "name": "stderr",
     "output_type": "stream",
     "text": [
      "/Users/test/miniforge3/envs/machine-learning-env/lib/python3.11/site-packages/sklearn/base.py:439: UserWarning: X does not have valid feature names, but LogisticRegression was fitted with feature names\n",
      "  warnings.warn(\n"
     ]
    },
    {
     "name": "stdout",
     "output_type": "stream",
     "text": [
      "Iteration  5 : recall score =  0.575\n",
      "\n",
      "Mean recall score  0.6184790221704963\n",
      "\n",
      "-------------------------------------------\n",
      "c parameter:  100\n",
      "-------------------------------------------\n",
      "\n"
     ]
    },
    {
     "name": "stderr",
     "output_type": "stream",
     "text": [
      "/Users/test/miniforge3/envs/machine-learning-env/lib/python3.11/site-packages/sklearn/base.py:439: UserWarning: X does not have valid feature names, but LogisticRegression was fitted with feature names\n",
      "  warnings.warn(\n"
     ]
    },
    {
     "name": "stdout",
     "output_type": "stream",
     "text": [
      "Iteration  1 : recall score =  0.5522388059701493\n"
     ]
    },
    {
     "name": "stderr",
     "output_type": "stream",
     "text": [
      "/Users/test/miniforge3/envs/machine-learning-env/lib/python3.11/site-packages/sklearn/base.py:439: UserWarning: X does not have valid feature names, but LogisticRegression was fitted with feature names\n",
      "  warnings.warn(\n"
     ]
    },
    {
     "name": "stdout",
     "output_type": "stream",
     "text": [
      "Iteration  2 : recall score =  0.6164383561643836\n"
     ]
    },
    {
     "name": "stderr",
     "output_type": "stream",
     "text": [
      "/Users/test/miniforge3/envs/machine-learning-env/lib/python3.11/site-packages/sklearn/base.py:439: UserWarning: X does not have valid feature names, but LogisticRegression was fitted with feature names\n",
      "  warnings.warn(\n"
     ]
    },
    {
     "name": "stdout",
     "output_type": "stream",
     "text": [
      "Iteration  3 : recall score =  0.7333333333333333\n"
     ]
    },
    {
     "name": "stderr",
     "output_type": "stream",
     "text": [
      "/Users/test/miniforge3/envs/machine-learning-env/lib/python3.11/site-packages/sklearn/base.py:439: UserWarning: X does not have valid feature names, but LogisticRegression was fitted with feature names\n",
      "  warnings.warn(\n"
     ]
    },
    {
     "name": "stdout",
     "output_type": "stream",
     "text": [
      "Iteration  4 : recall score =  0.6153846153846154\n",
      "Iteration  5 : recall score =  0.575\n",
      "\n",
      "Mean recall score  0.6184790221704963\n",
      "\n",
      "*********************************************************************************\n",
      "Best model to choose from cross validation is with C parameter =  10.0\n",
      "*********************************************************************************\n"
     ]
    },
    {
     "name": "stderr",
     "output_type": "stream",
     "text": [
      "/Users/test/miniforge3/envs/machine-learning-env/lib/python3.11/site-packages/sklearn/base.py:439: UserWarning: X does not have valid feature names, but LogisticRegression was fitted with feature names\n",
      "  warnings.warn(\n"
     ]
    }
   ],
   "source": [
    "regularization_paramter_all_training = parameter_tuning_KFOLD_scores(X_train,y_train)"
   ]
  },
  {
   "cell_type": "code",
   "execution_count": null,
   "metadata": {},
   "outputs": [
    {
     "name": "stdout",
     "output_type": "stream",
     "text": [
      "Recall metric in the testing dataset:  0.6190476190476191\n"
     ]
    },
    {
     "name": "stderr",
     "output_type": "stream",
     "text": [
      "/Users/test/miniforge3/envs/machine-learning-env/lib/python3.11/site-packages/sklearn/base.py:439: UserWarning: X does not have valid feature names, but LogisticRegression was fitted with feature names\n",
      "  warnings.warn(\n"
     ]
    }
   ],
   "source": [
    "lr = LogisticRegression(C=regularization_paramter_all_training, penalty='l1', solver='liblinear')\n",
    "lr.fit(X_train,y_train.values.ravel())\n",
    "y_pred_undersample = lr.predict(X_test.values)\n",
    "\n",
    "# Compute confusion matrix\n",
    "cnf_matrix = confusion_matrix(y_test,y_pred_undersample)\n",
    "np.set_printoptions(precision=2)\n",
    "\n",
    "print(\"Recall metric in the testing dataset: \", cnf_matrix[1,1]/(cnf_matrix[1,0]+cnf_matrix[1,1]))\n"
   ]
  },
  {
   "cell_type": "code",
   "execution_count": null,
   "metadata": {},
   "outputs": [
    {
     "name": "stdout",
     "output_type": "stream",
     "text": [
      "Epoch 1/100\n",
      "19937/19937 [==============================] - 10s 463us/step - loss: 0.0076 - accuracy: 0.9987\n",
      "Epoch 2/100\n",
      "19937/19937 [==============================] - 10s 518us/step - loss: 0.0033 - accuracy: 0.9993\n",
      "Epoch 3/100\n",
      "19937/19937 [==============================] - 10s 502us/step - loss: 0.0030 - accuracy: 0.9994\n",
      "Epoch 4/100\n",
      "19937/19937 [==============================] - 9s 471us/step - loss: 0.0028 - accuracy: 0.9993\n",
      "Epoch 5/100\n",
      "19937/19937 [==============================] - 10s 505us/step - loss: 0.0027 - accuracy: 0.9994\n",
      "Epoch 6/100\n",
      "19937/19937 [==============================] - 12s 592us/step - loss: 0.0025 - accuracy: 0.9994\n",
      "Epoch 7/100\n",
      "19937/19937 [==============================] - 9s 462us/step - loss: 0.0025 - accuracy: 0.9994\n",
      "Epoch 8/100\n",
      "19937/19937 [==============================] - 9s 456us/step - loss: 0.0025 - accuracy: 0.9994\n",
      "Epoch 9/100\n",
      "19937/19937 [==============================] - 11s 563us/step - loss: 0.0024 - accuracy: 0.9994\n",
      "Epoch 10/100\n",
      "19937/19937 [==============================] - 12s 578us/step - loss: 0.0023 - accuracy: 0.9994\n",
      "Epoch 11/100\n",
      "19937/19937 [==============================] - 10s 514us/step - loss: 0.0023 - accuracy: 0.9994\n",
      "Epoch 12/100\n",
      "19937/19937 [==============================] - 10s 501us/step - loss: 0.0023 - accuracy: 0.9994\n",
      "Epoch 13/100\n",
      "19937/19937 [==============================] - 11s 532us/step - loss: 0.0022 - accuracy: 0.9995\n",
      "Epoch 14/100\n",
      "19937/19937 [==============================] - 9s 467us/step - loss: 0.0022 - accuracy: 0.9995\n",
      "Epoch 15/100\n",
      "19937/19937 [==============================] - 9s 471us/step - loss: 0.0022 - accuracy: 0.9994\n",
      "Epoch 16/100\n",
      "19937/19937 [==============================] - 10s 511us/step - loss: 0.0021 - accuracy: 0.9995\n",
      "Epoch 17/100\n",
      "19937/19937 [==============================] - 9s 465us/step - loss: 0.0022 - accuracy: 0.9995\n",
      "Epoch 18/100\n",
      "19937/19937 [==============================] - 10s 490us/step - loss: 0.0022 - accuracy: 0.9995\n",
      "Epoch 19/100\n",
      "19937/19937 [==============================] - 9s 462us/step - loss: 0.0021 - accuracy: 0.9995\n",
      "Epoch 20/100\n",
      "19937/19937 [==============================] - 9s 472us/step - loss: 0.0021 - accuracy: 0.9995\n",
      "Epoch 21/100\n",
      "19937/19937 [==============================] - 9s 461us/step - loss: 0.0021 - accuracy: 0.9995\n",
      "Epoch 22/100\n",
      "19937/19937 [==============================] - 10s 487us/step - loss: 0.0023 - accuracy: 0.9995\n",
      "Epoch 23/100\n",
      "19937/19937 [==============================] - 12s 597us/step - loss: 0.0021 - accuracy: 0.9995\n",
      "Epoch 24/100\n",
      "19937/19937 [==============================] - 9s 469us/step - loss: 0.0021 - accuracy: 0.9995\n",
      "Epoch 25/100\n",
      "19937/19937 [==============================] - 10s 479us/step - loss: 0.0021 - accuracy: 0.9995\n",
      "Epoch 26/100\n",
      "19937/19937 [==============================] - 9s 470us/step - loss: 0.0021 - accuracy: 0.9995\n",
      "Epoch 27/100\n",
      "19937/19937 [==============================] - 9s 460us/step - loss: 0.0021 - accuracy: 0.9995\n",
      "Epoch 28/100\n",
      "19937/19937 [==============================] - 9s 475us/step - loss: 0.0020 - accuracy: 0.9995\n",
      "Epoch 29/100\n",
      "19937/19937 [==============================] - 9s 462us/step - loss: 0.0020 - accuracy: 0.9995\n",
      "Epoch 30/100\n",
      "19937/19937 [==============================] - 10s 508us/step - loss: 0.0021 - accuracy: 0.9995\n",
      "Epoch 31/100\n",
      "19937/19937 [==============================] - 10s 504us/step - loss: 0.0020 - accuracy: 0.9995\n",
      "Epoch 32/100\n",
      "19937/19937 [==============================] - 10s 486us/step - loss: 0.0021 - accuracy: 0.9995\n",
      "Epoch 33/100\n",
      "19937/19937 [==============================] - 11s 539us/step - loss: 0.0020 - accuracy: 0.9995\n",
      "Epoch 34/100\n",
      "19937/19937 [==============================] - 12s 600us/step - loss: 0.0020 - accuracy: 0.9995\n",
      "Epoch 35/100\n",
      "19937/19937 [==============================] - 10s 506us/step - loss: 0.0019 - accuracy: 0.9995\n",
      "Epoch 36/100\n",
      "19937/19937 [==============================] - 9s 456us/step - loss: 0.0020 - accuracy: 0.9995\n",
      "Epoch 37/100\n",
      "19937/19937 [==============================] - 9s 456us/step - loss: 0.0019 - accuracy: 0.9995\n",
      "Epoch 38/100\n",
      "19937/19937 [==============================] - 9s 470us/step - loss: 0.0019 - accuracy: 0.9995\n",
      "Epoch 39/100\n",
      "19937/19937 [==============================] - 9s 456us/step - loss: 0.0020 - accuracy: 0.9995\n",
      "Epoch 40/100\n",
      "19937/19937 [==============================] - 9s 456us/step - loss: 0.0020 - accuracy: 0.9995\n",
      "Epoch 41/100\n",
      "19937/19937 [==============================] - 9s 458us/step - loss: 0.0020 - accuracy: 0.9995\n",
      "Epoch 42/100\n",
      "19937/19937 [==============================] - 9s 465us/step - loss: 0.0019 - accuracy: 0.9995\n",
      "Epoch 43/100\n",
      "19937/19937 [==============================] - 9s 455us/step - loss: 0.0020 - accuracy: 0.9995\n",
      "Epoch 44/100\n",
      "19937/19937 [==============================] - 9s 459us/step - loss: 0.0020 - accuracy: 0.9995\n",
      "Epoch 45/100\n",
      "19937/19937 [==============================] - 9s 475us/step - loss: 0.0019 - accuracy: 0.9995\n",
      "Epoch 46/100\n",
      "19937/19937 [==============================] - 9s 457us/step - loss: 0.0020 - accuracy: 0.9995\n",
      "Epoch 47/100\n",
      "19937/19937 [==============================] - 9s 463us/step - loss: 0.0019 - accuracy: 0.9995\n",
      "Epoch 48/100\n",
      "19937/19937 [==============================] - 9s 455us/step - loss: 0.0019 - accuracy: 0.9995\n",
      "Epoch 49/100\n",
      "19937/19937 [==============================] - 9s 455us/step - loss: 0.0019 - accuracy: 0.9995\n",
      "Epoch 50/100\n",
      "19937/19937 [==============================] - 9s 455us/step - loss: 0.0020 - accuracy: 0.9995\n",
      "Epoch 51/100\n",
      "19937/19937 [==============================] - 9s 462us/step - loss: 0.0020 - accuracy: 0.9995\n",
      "Epoch 52/100\n",
      "19937/19937 [==============================] - 9s 456us/step - loss: 0.0020 - accuracy: 0.9995\n",
      "Epoch 53/100\n",
      "19937/19937 [==============================] - 9s 457us/step - loss: 0.0020 - accuracy: 0.9995\n",
      "Epoch 54/100\n",
      "19937/19937 [==============================] - 9s 456us/step - loss: 0.0019 - accuracy: 0.9995\n",
      "Epoch 55/100\n",
      "19937/19937 [==============================] - 9s 458us/step - loss: 0.0019 - accuracy: 0.9995\n",
      "Epoch 56/100\n",
      "19937/19937 [==============================] - 9s 455us/step - loss: 0.0020 - accuracy: 0.9995\n",
      "Epoch 57/100\n",
      "19937/19937 [==============================] - 9s 463us/step - loss: 0.0019 - accuracy: 0.9995\n",
      "Epoch 58/100\n",
      "19937/19937 [==============================] - 9s 454us/step - loss: 0.0020 - accuracy: 0.9995\n",
      "Epoch 59/100\n",
      "19937/19937 [==============================] - 10s 487us/step - loss: 0.0020 - accuracy: 0.9994\n",
      "Epoch 60/100\n",
      "19937/19937 [==============================] - 10s 479us/step - loss: 0.0019 - accuracy: 0.9995\n",
      "Epoch 61/100\n",
      "19937/19937 [==============================] - 9s 457us/step - loss: 0.0019 - accuracy: 0.9995\n",
      "Epoch 62/100\n",
      "19937/19937 [==============================] - 11s 528us/step - loss: 0.0019 - accuracy: 0.9995\n",
      "Epoch 63/100\n",
      "19937/19937 [==============================] - 11s 571us/step - loss: 0.0020 - accuracy: 0.9995\n",
      "Epoch 64/100\n",
      "19937/19937 [==============================] - 13s 661us/step - loss: 0.0019 - accuracy: 0.9995\n",
      "Epoch 65/100\n",
      "19937/19937 [==============================] - 9s 472us/step - loss: 0.0019 - accuracy: 0.9995\n",
      "Epoch 66/100\n",
      "19937/19937 [==============================] - 9s 469us/step - loss: 0.0019 - accuracy: 0.9995\n",
      "Epoch 67/100\n",
      "19937/19937 [==============================] - 9s 470us/step - loss: 0.0019 - accuracy: 0.9995\n",
      "Epoch 68/100\n",
      "19937/19937 [==============================] - 10s 491us/step - loss: 0.0020 - accuracy: 0.9995\n",
      "Epoch 69/100\n",
      "19937/19937 [==============================] - 9s 456us/step - loss: 0.0020 - accuracy: 0.9995\n",
      "Epoch 70/100\n",
      "19937/19937 [==============================] - 9s 452us/step - loss: 0.0020 - accuracy: 0.9994\n",
      "Epoch 71/100\n",
      "19937/19937 [==============================] - 9s 456us/step - loss: 0.0019 - accuracy: 0.9995\n",
      "Epoch 72/100\n",
      "19937/19937 [==============================] - 9s 454us/step - loss: 0.0019 - accuracy: 0.9995\n",
      "Epoch 73/100\n",
      "19937/19937 [==============================] - 9s 451us/step - loss: 0.0019 - accuracy: 0.9995\n",
      "Epoch 74/100\n",
      "19937/19937 [==============================] - 9s 454us/step - loss: 0.0019 - accuracy: 0.9995\n",
      "Epoch 75/100\n",
      "19937/19937 [==============================] - 9s 453us/step - loss: 0.0020 - accuracy: 0.9995\n",
      "Epoch 76/100\n",
      "19937/19937 [==============================] - 9s 454us/step - loss: 0.0018 - accuracy: 0.9994\n",
      "Epoch 77/100\n",
      "19937/19937 [==============================] - 10s 497us/step - loss: 0.0018 - accuracy: 0.9995\n",
      "Epoch 78/100\n",
      "19937/19937 [==============================] - 11s 529us/step - loss: 0.0019 - accuracy: 0.9994\n",
      "Epoch 79/100\n",
      "19937/19937 [==============================] - 10s 486us/step - loss: 0.0020 - accuracy: 0.9995\n",
      "Epoch 80/100\n",
      "19937/19937 [==============================] - 10s 515us/step - loss: 0.0019 - accuracy: 0.9995\n",
      "Epoch 81/100\n",
      "19937/19937 [==============================] - 11s 535us/step - loss: 0.0018 - accuracy: 0.9995\n",
      "Epoch 82/100\n",
      "19937/19937 [==============================] - 10s 491us/step - loss: 0.0019 - accuracy: 0.9995\n",
      "Epoch 83/100\n",
      "19937/19937 [==============================] - 9s 461us/step - loss: 0.0019 - accuracy: 0.9995\n",
      "Epoch 84/100\n",
      "19937/19937 [==============================] - 9s 457us/step - loss: 0.0019 - accuracy: 0.9995\n",
      "Epoch 85/100\n",
      "19937/19937 [==============================] - 9s 453us/step - loss: 0.0018 - accuracy: 0.9995\n",
      "Epoch 86/100\n",
      "19937/19937 [==============================] - 9s 462us/step - loss: 0.0019 - accuracy: 0.9995\n",
      "Epoch 87/100\n",
      "19937/19937 [==============================] - 9s 467us/step - loss: 0.0020 - accuracy: 0.9995\n",
      "Epoch 88/100\n",
      "19937/19937 [==============================] - 9s 466us/step - loss: 0.0019 - accuracy: 0.9995\n",
      "Epoch 89/100\n",
      "19937/19937 [==============================] - 9s 456us/step - loss: 0.0018 - accuracy: 0.9995\n",
      "Epoch 90/100\n",
      "19937/19937 [==============================] - 10s 493us/step - loss: 0.0019 - accuracy: 0.9995\n",
      "Epoch 91/100\n",
      "19937/19937 [==============================] - 10s 491us/step - loss: 0.0019 - accuracy: 0.9995\n",
      "Epoch 92/100\n",
      "19937/19937 [==============================] - 9s 475us/step - loss: 0.0019 - accuracy: 0.9995\n",
      "Epoch 93/100\n",
      "19937/19937 [==============================] - 9s 469us/step - loss: 0.0018 - accuracy: 0.9995\n",
      "Epoch 94/100\n",
      "19937/19937 [==============================] - 10s 510us/step - loss: 0.0019 - accuracy: 0.9995\n",
      "Epoch 95/100\n",
      "19937/19937 [==============================] - 9s 461us/step - loss: 0.0018 - accuracy: 0.9995\n",
      "Epoch 96/100\n",
      "19937/19937 [==============================] - 9s 464us/step - loss: 0.0019 - accuracy: 0.9995\n",
      "Epoch 97/100\n",
      "19937/19937 [==============================] - 10s 509us/step - loss: 0.0018 - accuracy: 0.9995\n",
      "Epoch 98/100\n",
      "19937/19937 [==============================] - 10s 524us/step - loss: 0.0019 - accuracy: 0.9995\n",
      "Epoch 99/100\n",
      "19937/19937 [==============================] - 10s 518us/step - loss: 0.0018 - accuracy: 0.9995\n",
      "Epoch 100/100\n",
      "19937/19937 [==============================] - 11s 566us/step - loss: 0.0019 - accuracy: 0.9995\n",
      "2671/2671 [==============================] - 1s 334us/step - loss: 0.0066 - accuracy: 0.9993\n",
      "Test Accuracy: 0.9993329048156738\n"
     ]
    }
   ],
   "source": [
    "scaler = StandardScaler()\n",
    "X_scaled = scaler.fit_transform(X_train)\n",
    "\n",
    "# Building the model\n",
    "model = Sequential()\n",
    "model.add(Dense(10, input_dim=X_train.shape[1], activation='relu'))  # First hidden layer\n",
    "model.add(Dense(15, activation='relu'))  # Second hidden layer with 15 neurons\n",
    "model.add(Dense(1, activation='sigmoid'))  # Output layer\n",
    "\n",
    "# Compile the model\n",
    "model.compile(loss='binary_crossentropy', optimizer='adam', metrics=['accuracy'])\n",
    "\n",
    "# Train the model\n",
    "model.fit(X_train, y_train, epochs=10, batch_size=10, verbose=1)\n",
    "\n",
    "# Evaluate the model\n",
    "loss, accuracy = model.evaluate(X_test, y_test)\n",
    "print(f\"Test Accuracy: {accuracy}\")"
   ]
  },
  {
   "cell_type": "code",
   "execution_count": null,
   "metadata": {},
   "outputs": [
    {
     "name": "stdout",
     "output_type": "stream",
     "text": [
      "Epoch 1/20\n",
      "15950/15950 [==============================] - 11s 643us/step - loss: 0.5528 - accuracy: 0.9776 - val_loss: 0.2178 - val_accuracy: 0.9915\n",
      "Epoch 2/20\n",
      "15950/15950 [==============================] - 11s 675us/step - loss: 0.2818 - accuracy: 0.9821 - val_loss: 0.2274 - val_accuracy: 0.9795\n",
      "Epoch 3/20\n",
      "15950/15950 [==============================] - 10s 621us/step - loss: 0.2739 - accuracy: 0.9823 - val_loss: 0.1792 - val_accuracy: 0.9887\n",
      "Epoch 4/20\n",
      "15950/15950 [==============================] - 10s 642us/step - loss: 0.2580 - accuracy: 0.9861 - val_loss: 0.3027 - val_accuracy: 0.9543\n",
      "Epoch 5/20\n",
      "15950/15950 [==============================] - 10s 640us/step - loss: 0.2545 - accuracy: 0.9817 - val_loss: 0.1923 - val_accuracy: 0.9827\n",
      "Epoch 6/20\n",
      "15950/15950 [==============================] - 12s 759us/step - loss: 0.2449 - accuracy: 0.9839 - val_loss: 0.2097 - val_accuracy: 0.9750\n",
      "Epoch 7/20\n",
      "15950/15950 [==============================] - 10s 639us/step - loss: 0.2372 - accuracy: 0.9793 - val_loss: 0.1893 - val_accuracy: 0.9831\n",
      "Epoch 8/20\n",
      "15950/15950 [==============================] - 11s 672us/step - loss: 0.2362 - accuracy: 0.9840 - val_loss: 0.2697 - val_accuracy: 0.9613\n",
      "Epoch 9/20\n",
      "15950/15950 [==============================] - 11s 710us/step - loss: 0.2320 - accuracy: 0.9794 - val_loss: 0.1203 - val_accuracy: 0.9946\n",
      "Epoch 10/20\n",
      "15950/15950 [==============================] - 13s 791us/step - loss: 0.2395 - accuracy: 0.9850 - val_loss: 0.1884 - val_accuracy: 0.9808\n",
      "Epoch 11/20\n",
      "15950/15950 [==============================] - 11s 679us/step - loss: 0.2321 - accuracy: 0.9817 - val_loss: 0.1497 - val_accuracy: 0.9892\n",
      "Epoch 12/20\n",
      "15950/15950 [==============================] - 10s 635us/step - loss: 0.2397 - accuracy: 0.9833 - val_loss: 0.1563 - val_accuracy: 0.9874\n",
      "Epoch 13/20\n",
      "15950/15950 [==============================] - 10s 641us/step - loss: 0.2318 - accuracy: 0.9841 - val_loss: 0.1772 - val_accuracy: 0.9811\n",
      "Epoch 14/20\n",
      "15950/15950 [==============================] - 11s 693us/step - loss: 0.2368 - accuracy: 0.9825 - val_loss: 0.1934 - val_accuracy: 0.9820\n",
      "Epoch 15/20\n",
      "15950/15950 [==============================] - 10s 647us/step - loss: 0.2370 - accuracy: 0.9841 - val_loss: 0.1722 - val_accuracy: 0.9859\n",
      "Epoch 16/20\n",
      "15950/15950 [==============================] - 10s 635us/step - loss: 0.2311 - accuracy: 0.9825 - val_loss: 0.1765 - val_accuracy: 0.9885\n",
      "Epoch 17/20\n",
      "15950/15950 [==============================] - 10s 640us/step - loss: 0.2344 - accuracy: 0.9838 - val_loss: 0.1521 - val_accuracy: 0.9916\n",
      "Epoch 18/20\n",
      "15950/15950 [==============================] - 10s 632us/step - loss: 0.2343 - accuracy: 0.9851 - val_loss: 0.1842 - val_accuracy: 0.9809\n",
      "Epoch 19/20\n",
      "15950/15950 [==============================] - 10s 642us/step - loss: 0.2322 - accuracy: 0.9820 - val_loss: 0.1924 - val_accuracy: 0.9832\n",
      "2671/2671 [==============================] - 1s 357us/step - loss: 0.1149 - accuracy: 0.9962\n",
      "Test Loss: 0.11493301391601562\n",
      "Test Accuracy: 0.9961845874786377\n"
     ]
    }
   ],
   "source": [
    "# Compute class weights for imbalanced data\n",
    "# Ensure y_train is a 1D array, not a column vector or multi-column DataFrame\n",
    "y_train_array = y_train.values.ravel()\n",
    "\n",
    "# Compute the class weights, using the unique labels in y_train_array\n",
    "class_weights = compute_class_weight('balanced', classes=np.unique(y_train_array), y=y_train_array)\n",
    "\n",
    "# Create a dictionary mapping the class label to the computed class weight\n",
    "class_weights_dict = {label: weight for label, weight in zip(np.unique(y_train_array), class_weights)}\n",
    "\n",
    "\n",
    "model = Sequential()\n",
    "model.add(Dense(64, activation='relu', input_shape=(X_train.shape[1],),\n",
    "                kernel_regularizer=l2(0.01)))  # L2 regularization\n",
    "model.add(Dense(64, activation='relu', kernel_regularizer=l1(0.01)))  # L1 regularization\n",
    "model.add(Dense(1, activation='sigmoid', kernel_regularizer=l1_l2(l1=0.01, l2=0.01)))  # L1_L2 regularization\n",
    "\n",
    "# Compile the model\n",
    "model.compile(loss='binary_crossentropy', optimizer='adam', metrics=['accuracy'])\n",
    "\n",
    "# Add early stopping to prevent overfitting\n",
    "early_stopping = EarlyStopping(monitor='val_loss', patience=10, restore_best_weights=True)\n",
    "\n",
    "# Train the model with class weights due to imbalance\n",
    "model.fit(X_train, y_train, epochs=20, batch_size=10, verbose=1, class_weight=class_weights_dict, validation_split=0.2, callbacks=[early_stopping])\n",
    "\n",
    "# Evaluate the model on the scaled test data\n",
    "X_test_scaled = scaler.fit_transform(X_test)\n",
    "loss, accuracy = model.evaluate(X_test_scaled, y_test)\n",
    "print(f\"Test Loss: {loss}\")\n",
    "print(f\"Test Accuracy: {accuracy}\")"
   ]
  },
  {
   "cell_type": "code",
   "execution_count": null,
   "metadata": {},
   "outputs": [
    {
     "name": "stdout",
     "output_type": "stream",
     "text": [
      "2671/2671 [==============================] - 1s 378us/step\n"
     ]
    },
    {
     "data": {
      "image/png": "[encoded data removed]",
      "text/plain": [
       "<Figure size 800x600 with 1 Axes>"
      ]
     },
     "metadata": {},
     "output_type": "display_data"
    }
   ],
   "source": [
    "# Making probability predictions\n",
    "y_pred_probs = model.predict(X_test_scaled).ravel()  # assuming X_test_scaled is your scaled test set\n",
    "y_pred_binary = (y_pred_probs > 0.5).astype('int')\n",
    "\n",
    "from sklearn.metrics import roc_curve, roc_auc_score\n",
    "\n",
    "fpr, tpr, thresholds = roc_curve(y_test, y_pred_probs)  # ROC curve\n",
    "auc_score = roc_auc_score(y_test, y_pred_probs)         # AUC score\n",
    "\n",
    "# Plotting the ROC curve\n",
    "plt.figure(figsize=(8, 6))\n",
    "plt.plot(fpr, tpr, label=f'AUC = {auc_score:.2f}')\n",
    "plt.plot([0, 1], [0, 1], linestyle='--', color='red')  # Random guessing line\n",
    "plt.xlabel('False Positive Rate')\n",
    "plt.ylabel('True Positive Rate')\n",
    "plt.title('ROC Curve')\n",
    "plt.legend(loc='best')\n",
    "plt.show()"
   ]
  },
  {
   "cell_type": "code",
   "execution_count": null,
   "metadata": {},
   "outputs": [
    {
     "name": "stdout",
     "output_type": "stream",
     "text": [
      "Precision: 0.08\n",
      "Recall: 0.85\n",
      "F1-Score: 0.15\n"
     ]
    }
   ],
   "source": [
    "\n",
    "\n",
    "f1 = f1_score(y_test, y_pred_binary)\n",
    "precision = precision_score(y_test, y_pred_binary)\n",
    "recall = recall_score(y_test, y_pred_binary)\n",
    "\n",
    "print(f'Precision: {precision:.2f}')\n",
    "print(f'Recall: {recall:.2f}')\n",
    "print(f'F1-Score: {f1:.2f}')"
   ]
  },
  {
   "cell_type": "code",
   "execution_count": null,
   "metadata": {},
   "outputs": [
    {
     "data": {
      "image/png": "[encoded data removed]",
      "text/plain": [
       "<Figure size 640x480 with 2 Axes>"
      ]
     },
     "metadata": {},
     "output_type": "display_data"
    }
   ],
   "source": [
    "\n",
    "cm = confusion_matrix(y_test, y_pred_binary)\n",
    "sns.heatmap(cm, annot=True, fmt='g', cmap='Blues')\n",
    "plt.xlabel('Predicted label')\n",
    "plt.ylabel('True label')\n",
    "plt.show()"
   ]
  }
 ],
 "metadata": {
  "kernelspec": {
   "display_name": "Python 3",
   "language": "python",
   "name": "python3"
  },
  "language_info": {
   "codemirror_mode": {
    "name": "ipython",
    "version": 3
   },
   "file_extension": ".py",
   "mimetype": "text/x-python",
   "name": "python",
   "nbconvert_exporter": "python",
   "pygments_lexer": "ipython3",
   "version": "3.11.8"
  }
 },
 "nbformat": 4,
 "nbformat_minor": 2
}
